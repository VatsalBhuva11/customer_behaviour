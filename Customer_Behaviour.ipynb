{
  "cells": [
    {
      "cell_type": "markdown",
      "metadata": {
        "id": "zPIVEIRqebmJ"
      },
      "source": [
        "**Project done by:** *Vatsal Bhuva*\n",
        "\n",
        "**Title:** *Using Linear Regression to assess a Customer's Behaviour*"
      ]
    },
    {
      "cell_type": "markdown",
      "metadata": {
        "id": "936UluJzMh7r"
      },
      "source": [
        "# **Customer Behaviour**\n",
        "- This project analyses the information about around 400 customers to predict whether a given customer is likely to buy a product or not. Since we are classifying the customers into 2 (those who will buy the product, and those who won't), we are required to use a Classification Algorithm or more specifically, Logistic Regression.\n"
      ]
    },
    {
      "cell_type": "code",
      "execution_count": 2,
      "metadata": {
        "colab": {
          "base_uri": "https://localhost:8080/"
        },
        "id": "a9dW2edeNOLy",
        "outputId": "bf97126c-8bc6-4120-fa0f-79da87a4ab92"
      },
      "outputs": [
        {
          "name": "stdout",
          "output_type": "stream",
          "text": [
            "      User ID  Gender  Age  EstimatedSalary  Purchased\n",
            "0    15624510    Male   19            19000          0\n",
            "1    15810944    Male   35            20000          0\n",
            "2    15668575  Female   26            43000          0\n",
            "3    15603246  Female   27            57000          0\n",
            "4    15804002    Male   19            76000          0\n",
            "..        ...     ...  ...              ...        ...\n",
            "395  15691863  Female   46            41000          1\n",
            "396  15706071    Male   51            23000          1\n",
            "397  15654296  Female   50            20000          1\n",
            "398  15755018    Male   36            33000          0\n",
            "399  15594041  Female   49            36000          1\n",
            "\n",
            "[400 rows x 5 columns]\n"
          ]
        }
      ],
      "source": [
        "#importing the data and creating a dataframe.\n",
        "\n",
        "import pandas as pd\n",
        "df = pd.read_csv('Customer_Behaviour.csv')\n",
        "print(df) #loaded the dataset."
      ]
    },
    {
      "cell_type": "code",
      "execution_count": 3,
      "metadata": {
        "colab": {
          "base_uri": "https://localhost:8080/"
        },
        "id": "7tR4nCb_YFeN",
        "outputId": "072acb3e-d85a-438d-841d-a5e7827075fb"
      },
      "outputs": [
        {
          "name": "stdout",
          "output_type": "stream",
          "text": [
            "<class 'pandas.core.frame.DataFrame'>\n",
            "RangeIndex: 400 entries, 0 to 399\n",
            "Data columns (total 5 columns):\n",
            " #   Column           Non-Null Count  Dtype \n",
            "---  ------           --------------  ----- \n",
            " 0   User ID          400 non-null    int64 \n",
            " 1   Gender           400 non-null    object\n",
            " 2   Age              400 non-null    int64 \n",
            " 3   EstimatedSalary  400 non-null    int64 \n",
            " 4   Purchased        400 non-null    int64 \n",
            "dtypes: int64(4), object(1)\n",
            "memory usage: 15.8+ KB\n"
          ]
        }
      ],
      "source": [
        "df.info()"
      ]
    },
    {
      "cell_type": "code",
      "execution_count": 4,
      "metadata": {
        "colab": {
          "base_uri": "https://localhost:8080/"
        },
        "id": "mbvMA292Oa1r",
        "outputId": "139b7ffc-f4e9-4468-877e-bad35bb28f27"
      },
      "outputs": [
        {
          "name": "stdout",
          "output_type": "stream",
          "text": [
            "The column 'User ID' is removed now. \n",
            "\n",
            "     Gender  Age  EstimatedSalary  Purchased\n",
            "0         1   19            19000          0\n",
            "1         1   35            20000          0\n",
            "2         0   26            43000          0\n",
            "3         0   27            57000          0\n",
            "4         1   19            76000          0\n",
            "..      ...  ...              ...        ...\n",
            "395       0   46            41000          1\n",
            "396       1   51            23000          1\n",
            "397       0   50            20000          1\n",
            "398       1   36            33000          0\n",
            "399       0   49            36000          1\n",
            "\n",
            "[400 rows x 4 columns]\n"
          ]
        }
      ],
      "source": [
        "#performing EDA to remove unnecessary columns/data.\n",
        "\n",
        "#as can be seen, the 'User ID' column is not needed. we can remove that column from the set of inputs.\n",
        "#the gender, age and estimated salary can be factors affecting the decision of a customer.\n",
        "try:\n",
        "  df = df.drop(['User ID'], axis = 1)\n",
        "  print(\"The column 'User ID' is removed now. \\n\")\n",
        "except KeyError:\n",
        "  print(\"The column 'User ID' has already been removed.\\n\")\n",
        "\n",
        "#for uniformity in the datatypes of the columns, we can change Male to 1 and Female to 0.\n",
        "newGend = []\n",
        "for gend in df['Gender']:\n",
        "  if gend == 'Male':\n",
        "    newGend.append(1)\n",
        "  else:\n",
        "    newGend.append(0)\n",
        "\n",
        "df = df.drop(['Gender'], axis = 1)\n",
        "df.insert(loc = 0, column = 'Gender', value = newGend)\n",
        "print(df)\n"
      ]
    },
    {
      "cell_type": "code",
      "execution_count": 5,
      "metadata": {
        "colab": {
          "base_uri": "https://localhost:8080/"
        },
        "id": "OsCi-9UaV34b",
        "outputId": "e2207a7d-95c5-4c6f-b170-78ade4c8cc01"
      },
      "outputs": [
        {
          "name": "stdout",
          "output_type": "stream",
          "text": [
            "     Gender  Age  EstimatedSalary  Purchased\n",
            "0         1   19             19.0          0\n",
            "1         1   35             20.0          0\n",
            "2         0   26             43.0          0\n",
            "3         0   27             57.0          0\n",
            "4         1   19             76.0          0\n",
            "..      ...  ...              ...        ...\n",
            "395       0   46             41.0          1\n",
            "396       1   51             23.0          1\n",
            "397       0   50             20.0          1\n",
            "398       1   36             33.0          0\n",
            "399       0   49             36.0          1\n",
            "\n",
            "[400 rows x 4 columns]\n"
          ]
        }
      ],
      "source": [
        "#scaling down the estimated salary \n",
        "df['EstimatedSalary'] = df['EstimatedSalary']/1000\n",
        "print(df)"
      ]
    },
    {
      "cell_type": "code",
      "execution_count": 6,
      "metadata": {
        "colab": {
          "base_uri": "https://localhost:8080/",
          "height": 312
        },
        "id": "7cHoltKvZ27s",
        "outputId": "c7a5abf9-840a-4077-f334-3e4ea3fc2c9d"
      },
      "outputs": [
        {
          "data": {
            "text/plain": [
              "Text(0, 0.5, 'Purchased')"
            ]
          },
          "execution_count": 6,
          "metadata": {},
          "output_type": "execute_result"
        },
        {
          "data": {
            "image/png": "[encoded data removed]",
            "text/plain": [
              "<Figure size 432x288 with 3 Axes>"
            ]
          },
          "metadata": {
            "needs_background": "light"
          },
          "output_type": "display_data"
        }
      ],
      "source": [
        "#let's visually check the dependence of various factors on the behaviour of a customer.\n",
        "tempDf = df.iloc[0:51,:]\n",
        "\n",
        "import matplotlib.pyplot as plt\n",
        "figure, axis = plt.subplots(1,3)\n",
        "x1 = tempDf['Gender']\n",
        "x2 = tempDf['Age']\n",
        "x3 = tempDf['EstimatedSalary']\n",
        "y = tempDf['Purchased']\n",
        "figure.subplots_adjust(left=0, right = 2.25)\n",
        "axis[0].scatter(x1, y)\n",
        "axis[0].set_title('Gender vs Purchased')\n",
        "axis[0].set_xlabel('Gender')\n",
        "axis[0].set_ylabel('Purchased')\n",
        "axis[1].scatter(x2, y)\n",
        "axis[1].set_title('Age vs Purchased')\n",
        "axis[1].set_xlabel('Age')\n",
        "axis[1].set_ylabel('Purchased')\n",
        "axis[2].scatter(x3, y)\n",
        "axis[2].set_title('EstimatedSalary vs Purchased')\n",
        "axis[2].set_xlabel('EstimatedSalary(*1000)')\n",
        "axis[2].set_ylabel('Purchased')"
      ]
    },
    {
      "cell_type": "code",
      "execution_count": 7,
      "metadata": {
        "id": "fou7rN3LdkWF"
      },
      "outputs": [],
      "source": [
        "#as can be seen, gender does not affect the behaviour of a customer much but age and estimatedsalary do."
      ]
    },
    {
      "cell_type": "code",
      "execution_count": 8,
      "metadata": {
        "colab": {
          "base_uri": "https://localhost:8080/"
        },
        "id": "up_5fWD3Qp_C",
        "outputId": "6cd88cdf-72b7-468c-faaa-5a3e6d7a37a9"
      },
      "outputs": [
        {
          "name": "stdout",
          "output_type": "stream",
          "text": [
            "     Gender  Age  EstimatedSalary\n",
            "0         1   19             19.0\n",
            "1         1   35             20.0\n",
            "2         0   26             43.0\n",
            "3         0   27             57.0\n",
            "4         1   19             76.0\n",
            "..      ...  ...              ...\n",
            "395       0   46             41.0\n",
            "396       1   51             23.0\n",
            "397       0   50             20.0\n",
            "398       1   36             33.0\n",
            "399       0   49             36.0\n",
            "\n",
            "[400 rows x 3 columns]\n",
            "0      0\n",
            "1      0\n",
            "2      0\n",
            "3      0\n",
            "4      0\n",
            "      ..\n",
            "395    1\n",
            "396    1\n",
            "397    1\n",
            "398    0\n",
            "399    1\n",
            "Name: Purchased, Length: 400, dtype: int64\n"
          ]
        }
      ],
      "source": [
        "#we have 3 input factors, and 2 outputs possible\n",
        "# INPUTS: Gender, Age, EstimatedSalary\n",
        "# OUTPUTS: 0 (did not purchase the product), 1 (purchased the product)\n",
        "\n",
        "x = df.iloc[:, 0:3]\n",
        "y = df.iloc[:, 3]\n",
        "print(x)\n",
        "print(y)\n",
        "\n",
        "#now, our dataframe has been extracted into two variables: x (inputs) and y(outputs)"
      ]
    },
    {
      "cell_type": "code",
      "execution_count": 9,
      "metadata": {
        "colab": {
          "base_uri": "https://localhost:8080/"
        },
        "id": "Mri_cV9vQ_Pa",
        "outputId": "06ee97fc-9f8d-4876-d244-96e632d09171"
      },
      "outputs": [
        {
          "name": "stdout",
          "output_type": "stream",
          "text": [
            "(400, 3)\n",
            "(300, 3)\n",
            "(100, 3)\n"
          ]
        }
      ],
      "source": [
        "#since our dataset has a considerable amount of data, we have to split the data into training and testing data.\n",
        "from sklearn.model_selection import train_test_split\n",
        "\n",
        "x_train, x_test, y_train, y_test = train_test_split(x, y, random_state = 0)\n",
        "print(x.shape)\n",
        "print(x_train.shape)\n",
        "print(x_test.shape)\n",
        "#the input has been split into training (75%) and testing (25%) data. similarly for output."
      ]
    },
    {
      "cell_type": "code",
      "execution_count": 10,
      "metadata": {
        "colab": {
          "base_uri": "https://localhost:8080/",
          "height": 74
        },
        "id": "cbWEDdxzRoP3",
        "outputId": "c93f0594-6c54-4003-d598-44df66801503"
      },
      "outputs": [
        {
          "data": {
            "text/html": [
              "<style>#sk-container-id-1 {color: black;background-color: white;}#sk-container-id-1 pre{padding: 0;}#sk-container-id-1 div.sk-toggleable {background-color: white;}#sk-container-id-1 label.sk-toggleable__label {cursor: pointer;display: block;width: 100%;margin-bottom: 0;padding: 0.3em;box-sizing: border-box;text-align: center;}#sk-container-id-1 label.sk-toggleable__label-arrow:before {content: \"▸\";float: left;margin-right: 0.25em;color: #696969;}#sk-container-id-1 label.sk-toggleable__label-arrow:hover:before {color: black;}#sk-container-id-1 div.sk-estimator:hover label.sk-toggleable__label-arrow:before {color: black;}#sk-container-id-1 div.sk-toggleable__content {max-height: 0;max-width: 0;overflow: hidden;text-align: left;background-color: #f0f8ff;}#sk-container-id-1 div.sk-toggleable__content pre {margin: 0.2em;color: black;border-radius: 0.25em;background-color: #f0f8ff;}#sk-container-id-1 input.sk-toggleable__control:checked~div.sk-toggleable__content {max-height: 200px;max-width: 100%;overflow: auto;}#sk-container-id-1 input.sk-toggleable__control:checked~label.sk-toggleable__label-arrow:before {content: \"▾\";}#sk-container-id-1 div.sk-estimator input.sk-toggleable__control:checked~label.sk-toggleable__label {background-color: #d4ebff;}#sk-container-id-1 div.sk-label input.sk-toggleable__control:checked~label.sk-toggleable__label {background-color: #d4ebff;}#sk-container-id-1 input.sk-hidden--visually {border: 0;clip: rect(1px 1px 1px 1px);clip: rect(1px, 1px, 1px, 1px);height: 1px;margin: -1px;overflow: hidden;padding: 0;position: absolute;width: 1px;}#sk-container-id-1 div.sk-estimator {font-family: monospace;background-color: #f0f8ff;border: 1px dotted black;border-radius: 0.25em;box-sizing: border-box;margin-bottom: 0.5em;}#sk-container-id-1 div.sk-estimator:hover {background-color: #d4ebff;}#sk-container-id-1 div.sk-parallel-item::after {content: \"\";width: 100%;border-bottom: 1px solid gray;flex-grow: 1;}#sk-container-id-1 div.sk-label:hover label.sk-toggleable__label {background-color: #d4ebff;}#sk-container-id-1 div.sk-serial::before {content: \"\";position: absolute;border-left: 1px solid gray;box-sizing: border-box;top: 0;bottom: 0;left: 50%;z-index: 0;}#sk-container-id-1 div.sk-serial {display: flex;flex-direction: column;align-items: center;background-color: white;padding-right: 0.2em;padding-left: 0.2em;position: relative;}#sk-container-id-1 div.sk-item {position: relative;z-index: 1;}#sk-container-id-1 div.sk-parallel {display: flex;align-items: stretch;justify-content: center;background-color: white;position: relative;}#sk-container-id-1 div.sk-item::before, #sk-container-id-1 div.sk-parallel-item::before {content: \"\";position: absolute;border-left: 1px solid gray;box-sizing: border-box;top: 0;bottom: 0;left: 50%;z-index: -1;}#sk-container-id-1 div.sk-parallel-item {display: flex;flex-direction: column;z-index: 1;position: relative;background-color: white;}#sk-container-id-1 div.sk-parallel-item:first-child::after {align-self: flex-end;width: 50%;}#sk-container-id-1 div.sk-parallel-item:last-child::after {align-self: flex-start;width: 50%;}#sk-container-id-1 div.sk-parallel-item:only-child::after {width: 0;}#sk-container-id-1 div.sk-dashed-wrapped {border: 1px dashed gray;margin: 0 0.4em 0.5em 0.4em;box-sizing: border-box;padding-bottom: 0.4em;background-color: white;}#sk-container-id-1 div.sk-label label {font-family: monospace;font-weight: bold;display: inline-block;line-height: 1.2em;}#sk-container-id-1 div.sk-label-container {text-align: center;}#sk-container-id-1 div.sk-container {/* jupyter's `normalize.less` sets `[hidden] { display: none; }` but bootstrap.min.css set `[hidden] { display: none !important; }` so we also need the `!important` here to be able to override the default hidden behavior on the sphinx rendered scikit-learn.org. See: https://github.com/scikit-learn/scikit-learn/issues/21755 */display: inline-block !important;position: relative;}#sk-container-id-1 div.sk-text-repr-fallback {display: none;}</style><div id=\"sk-container-id-1\" class=\"sk-top-container\"><div class=\"sk-text-repr-fallback\"><pre>LogisticRegression()</pre><b>In a Jupyter environment, please rerun this cell to show the HTML representation or trust the notebook. <br />On GitHub, the HTML representation is unable to render, please try loading this page with nbviewer.org.</b></div><div class=\"sk-container\" hidden><div class=\"sk-item\"><div class=\"sk-estimator sk-toggleable\"><input class=\"sk-toggleable__control sk-hidden--visually\" id=\"sk-estimator-id-1\" type=\"checkbox\" checked><label for=\"sk-estimator-id-1\" class=\"sk-toggleable__label sk-toggleable__label-arrow\">LogisticRegression</label><div class=\"sk-toggleable__content\"><pre>LogisticRegression()</pre></div></div></div></div></div>"
            ],
            "text/plain": [
              "LogisticRegression()"
            ]
          },
          "execution_count": 10,
          "metadata": {},
          "output_type": "execute_result"
        }
      ],
      "source": [
        "#now we run the logistic regression.\n",
        "from sklearn.linear_model import LogisticRegression\n",
        "model = LogisticRegression()\n",
        "model.fit(x_train, y_train) #this trains our model based on the training data."
      ]
    },
    {
      "cell_type": "code",
      "execution_count": 11,
      "metadata": {
        "colab": {
          "base_uri": "https://localhost:8080/",
          "height": 423
        },
        "id": "UFi6kPEWSHwS",
        "outputId": "dc0c8c8a-c815-4f1d-e904-a0025ef5af01"
      },
      "outputs": [
        {
          "data": {
            "text/html": [
              "<div>\n",
              "<style scoped>\n",
              "    .dataframe tbody tr th:only-of-type {\n",
              "        vertical-align: middle;\n",
              "    }\n",
              "\n",
              "    .dataframe tbody tr th {\n",
              "        vertical-align: top;\n",
              "    }\n",
              "\n",
              "    .dataframe thead th {\n",
              "        text-align: right;\n",
              "    }\n",
              "</style>\n",
              "<table border=\"1\" class=\"dataframe\">\n",
              "  <thead>\n",
              "    <tr style=\"text-align: right;\">\n",
              "      <th></th>\n",
              "      <th>y_test</th>\n",
              "      <th>y_pred</th>\n",
              "    </tr>\n",
              "  </thead>\n",
              "  <tbody>\n",
              "    <tr>\n",
              "      <th>132</th>\n",
              "      <td>0</td>\n",
              "      <td>0</td>\n",
              "    </tr>\n",
              "    <tr>\n",
              "      <th>309</th>\n",
              "      <td>0</td>\n",
              "      <td>0</td>\n",
              "    </tr>\n",
              "    <tr>\n",
              "      <th>341</th>\n",
              "      <td>0</td>\n",
              "      <td>0</td>\n",
              "    </tr>\n",
              "    <tr>\n",
              "      <th>196</th>\n",
              "      <td>0</td>\n",
              "      <td>0</td>\n",
              "    </tr>\n",
              "    <tr>\n",
              "      <th>246</th>\n",
              "      <td>0</td>\n",
              "      <td>0</td>\n",
              "    </tr>\n",
              "    <tr>\n",
              "      <th>...</th>\n",
              "      <td>...</td>\n",
              "      <td>...</td>\n",
              "    </tr>\n",
              "    <tr>\n",
              "      <th>146</th>\n",
              "      <td>1</td>\n",
              "      <td>0</td>\n",
              "    </tr>\n",
              "    <tr>\n",
              "      <th>135</th>\n",
              "      <td>0</td>\n",
              "      <td>0</td>\n",
              "    </tr>\n",
              "    <tr>\n",
              "      <th>390</th>\n",
              "      <td>1</td>\n",
              "      <td>1</td>\n",
              "    </tr>\n",
              "    <tr>\n",
              "      <th>264</th>\n",
              "      <td>1</td>\n",
              "      <td>1</td>\n",
              "    </tr>\n",
              "    <tr>\n",
              "      <th>364</th>\n",
              "      <td>1</td>\n",
              "      <td>1</td>\n",
              "    </tr>\n",
              "  </tbody>\n",
              "</table>\n",
              "<p>100 rows × 2 columns</p>\n",
              "</div>"
            ],
            "text/plain": [
              "     y_test  y_pred\n",
              "132       0       0\n",
              "309       0       0\n",
              "341       0       0\n",
              "196       0       0\n",
              "246       0       0\n",
              "..      ...     ...\n",
              "146       1       0\n",
              "135       0       0\n",
              "390       1       1\n",
              "264       1       1\n",
              "364       1       1\n",
              "\n",
              "[100 rows x 2 columns]"
            ]
          },
          "execution_count": 11,
          "metadata": {},
          "output_type": "execute_result"
        }
      ],
      "source": [
        "#once we have trained the model, we can predict the output of the testing data and compare the actual values.\n",
        "y_pred = model.predict(x_test)\n",
        "#we can create a dataframe consisting of y_pred and y_test to compare the two outputs.\n",
        "y_df = pd.DataFrame({'y_test':y_test, 'y_pred':y_pred})\n",
        "y_df\n",
        "#the difference in y_pred and y_test gives us information about how correct our model is"
      ]
    },
    {
      "cell_type": "code",
      "execution_count": 12,
      "metadata": {
        "colab": {
          "base_uri": "https://localhost:8080/"
        },
        "id": "gfaGkzUMUJXU",
        "outputId": "c67f7f8b-2052-42f9-9202-a9606ad4cdd3"
      },
      "outputs": [
        {
          "data": {
            "text/plain": [
              "91.0"
            ]
          },
          "execution_count": 12,
          "metadata": {},
          "output_type": "execute_result"
        }
      ],
      "source": [
        "#now, we calculate the accuracy of our model.\n",
        "from sklearn.metrics import accuracy_score\n",
        "accuracy_score(y_pred, y_test) * 100"
      ]
    },
    {
      "cell_type": "code",
      "execution_count": 13,
      "metadata": {
        "colab": {
          "base_uri": "https://localhost:8080/"
        },
        "id": "MumDytjOW93j",
        "outputId": "031948a4-265c-48bb-f318-6a935536cfe7"
      },
      "outputs": [
        {
          "name": "stderr",
          "output_type": "stream",
          "text": [
            "c:\\Users\\vatsa\\AppData\\Local\\Programs\\Python\\Python39\\lib\\site-packages\\sklearn\\base.py:450: UserWarning: X does not have valid feature names, but LogisticRegression was fitted with feature names\n",
            "  warnings.warn(\n"
          ]
        },
        {
          "data": {
            "text/plain": [
              "array([1], dtype=int64)"
            ]
          },
          "execution_count": 13,
          "metadata": {},
          "output_type": "execute_result"
        }
      ],
      "source": [
        "#we can use the model to predict whether a given customer is likely to buy the product or not\n",
        "#input features: ['Gender', 'Age', 'EstimatedSalary'] , Gender = 1 for Male, 0 for Female\n",
        "\n",
        "model.predict([[1, 35, 140000]]) #output is 1 if likely to buy, 0 if not likely to buy.\n"
      ]
    },
    {
      "cell_type": "markdown",
      "metadata": {
        "id": "8u8FZZd4eM2b"
      },
      "source": [
        "**Thank You!**\n",
        "\n",
        "\n",
        "---\n",
        "\n"
      ]
    }
  ],
  "metadata": {
    "colab": {
      "provenance": []
    },
    "kernelspec": {
      "display_name": "Python 3",
      "name": "python3"
    },
    "language_info": {
      "codemirror_mode": {
        "name": "ipython",
        "version": 3
      },
      "file_extension": ".py",
      "mimetype": "text/x-python",
      "name": "python",
      "nbconvert_exporter": "python",
      "pygments_lexer": "ipython3",
      "version": "3.9.5"
    }
  },
  "nbformat": 4,
  "nbformat_minor": 0
}
