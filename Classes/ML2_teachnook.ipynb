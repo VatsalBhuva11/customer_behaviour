{
  "nbformat": 4,
  "nbformat_minor": 0,
  "metadata": {
    "colab": {
      "provenance": []
    },
    "kernelspec": {
      "name": "python3",
      "display_name": "Python 3"
    },
    "language_info": {
      "name": "python"
    }
  },
  "cells": [
    {
      "cell_type": "code",
      "execution_count": 2,
      "metadata": {
        "id": "fGiJhkWPs22M"
      },
      "outputs": [],
      "source": [
        "#Steps in building any ML model:\n",
        "#1. Take the data, create a dataframe.\n",
        "#2. EDA (Data cleaning)\n",
        "#3. Data visualization\n",
        "#4. Divide data into input and output\n",
        "#5. Train and test variables.\n",
        "#6. Normalization (Scaling) of model based on inputs and outputs.\n",
        "#7. Run a classifier/regressor/clusterer (basically apply an algorithm)\n",
        "#8. Fit the model\n",
        "#9. Predict the output\n",
        "#10. Accuracy score, confusion matrix (evaluation)"
      ]
    },
    {
      "cell_type": "markdown",
      "source": [
        "# **Machine Learning - Supervised Learning - Regression - Linear Regression**"
      ],
      "metadata": {
        "id": "jTjHEI2-uqoK"
      }
    },
    {
      "cell_type": "code",
      "source": [
        "#1. Univariate/Single - One column input, one column output\n",
        "#2. Multivariate/Multiple - Multiple columns as input, one column as output"
      ],
      "metadata": {
        "id": "JpMXleIZuyxw"
      },
      "execution_count": 3,
      "outputs": []
    },
    {
      "cell_type": "code",
      "source": [
        "#Dataset - Area(sqft.) vs Prices(rupees)\n",
        "\n",
        "#1. Take the data and create a dataframe\n",
        "import pandas as pd\n",
        "df = pd.read_csv('https://raw.githubusercontent.com/ameenmanna8824/DATASETS/main/areavsprices.csv')\n",
        "print(df)"
      ],
      "metadata": {
        "colab": {
          "base_uri": "https://localhost:8080/"
        },
        "id": "IyZeZP6hu8MA",
        "outputId": "d7678f26-243c-4a53-dbc2-5f13e07a54de"
      },
      "execution_count": 8,
      "outputs": [
        {
          "output_type": "stream",
          "name": "stdout",
          "text": [
            "   Area   Prices\n",
            "0  1000   550000\n",
            "1  1500   800000\n",
            "2  1800  1050000\n",
            "3  2400  1240000\n",
            "4  3000  1400000\n",
            "5  3500  1650000\n"
          ]
        }
      ]
    },
    {
      "cell_type": "code",
      "source": [
        "#2. Preprocessing (EDA)\n",
        "#Here, EDA is not required as data is already cleansed.\n",
        "#note, we can typecast pandas series to list\n",
        "print(type(df['Area']), df['Area'])\n",
        "print(type(df['Prices']),df['Prices'])"
      ],
      "metadata": {
        "colab": {
          "base_uri": "https://localhost:8080/"
        },
        "id": "Gta8cA3Svj4D",
        "outputId": "701f257e-9945-4fff-f88f-b0263e520f37"
      },
      "execution_count": 14,
      "outputs": [
        {
          "output_type": "stream",
          "name": "stdout",
          "text": [
            "<class 'pandas.core.series.Series'> 0    1000\n",
            "1    1500\n",
            "2    1800\n",
            "3    2400\n",
            "4    3000\n",
            "5    3500\n",
            "Name: Area, dtype: int64\n",
            "<class 'pandas.core.series.Series'> 0     550000\n",
            "1     800000\n",
            "2    1050000\n",
            "3    1240000\n",
            "4    1400000\n",
            "5    1650000\n",
            "Name: Prices, dtype: int64\n"
          ]
        }
      ]
    },
    {
      "cell_type": "code",
      "source": [
        "#3. Data visualization\n",
        "import matplotlib.pyplot as plt\n",
        "plt.scatter(df['Area'], df['Prices'], marker = 'o')\n",
        "plt.title('Training Data (Area vs Prices)')\n",
        "plt.xlabel('Area of Houses (sqft.)')\n",
        "plt.ylabel('Prices (* 10^6 rupees)')"
      ],
      "metadata": {
        "colab": {
          "base_uri": "https://localhost:8080/",
          "height": 312
        },
        "id": "Toe722XJwRd1",
        "outputId": "0fe4ab6e-7a47-4ed5-b1bf-422988d44c67"
      },
      "execution_count": 18,
      "outputs": [
        {
          "output_type": "execute_result",
          "data": {
            "text/plain": [
              "Text(0, 0.5, 'Prices (* 10^6 rupees)')"
            ]
          },
          "metadata": {},
          "execution_count": 18
        },
        {
          "output_type": "display_data",
          "data": {
            "text/plain": [
              "<Figure size 432x288 with 1 Axes>"
            ],
            "image/png": "[encoded data removed]"
          },
          "metadata": {
            "needs_background": "light"
          }
        }
      ]
    },
    {
      "cell_type": "code",
      "source": [
        "#4. Divide the data into input and output\n",
        "#INPUT - Area (variable is x)\n",
        "#OUTPUT - Price (variable is y)\n",
        "#input(x) is always 2 dimensional arrays\n",
        "#output(y) is always 1 dimensional array\n",
        "x = df.iloc[0:6, 0:1] #slicing the area column\n",
        "\n",
        "#can select all rows by just writing column as well.\n",
        "#x = df.iloc[:, 0:1]\n",
        "print(x.values) #.values converts my dataframe into 2D array.\n",
        "print(x.ndim)"
      ],
      "metadata": {
        "colab": {
          "base_uri": "https://localhost:8080/"
        },
        "id": "pDfTBKH0wcIG",
        "outputId": "786ffc86-45fc-4858-9abf-371afaae69b2"
      },
      "execution_count": 30,
      "outputs": [
        {
          "output_type": "stream",
          "name": "stdout",
          "text": [
            "[[1000]\n",
            " [1500]\n",
            " [1800]\n",
            " [2400]\n",
            " [3000]\n",
            " [3500]]\n",
            "2\n"
          ]
        }
      ]
    },
    {
      "cell_type": "code",
      "source": [
        "#in column slicing, if there is ':', array is 2D, else 1D\n",
        "y = df.iloc[:, 1] #select only index 1 column, but all rows. no ':' in col slicing, so array is 1D.\n",
        "print(y.values)\n",
        "print(y.ndim)"
      ],
      "metadata": {
        "colab": {
          "base_uri": "https://localhost:8080/"
        },
        "id": "4GkBZYbiw4Qd",
        "outputId": "e510959f-388f-41b8-dc7a-7cc6861401fe"
      },
      "execution_count": 33,
      "outputs": [
        {
          "output_type": "stream",
          "name": "stdout",
          "text": [
            "[ 550000  800000 1050000 1240000 1400000 1650000]\n",
            "1\n"
          ]
        }
      ]
    },
    {
      "cell_type": "code",
      "source": [
        "#5. TRAIN and TEST variables.\n",
        "#no need of this cuz of limited data."
      ],
      "metadata": {
        "id": "yW5NfNxKf8b7"
      },
      "execution_count": 34,
      "outputs": []
    },
    {
      "cell_type": "code",
      "source": [
        "#6. Normalization/Scaling - To be done only for inputs, only applicable on multivariate datasets"
      ],
      "metadata": {
        "id": "v6EDZJ-5l-ds"
      },
      "execution_count": 35,
      "outputs": []
    },
    {
      "cell_type": "code",
      "source": [
        "#7. Run a classifier/regressor/clusterer. Here, it is a regressor\n",
        "#sklearn.linear_model is a package (collection of libraries)\n",
        "#LinearRegression is a library name \n",
        "from sklearn.linear_model import LinearRegression\n",
        "model = LinearRegression()\n"
      ],
      "metadata": {
        "id": "DO8b2islmD9R"
      },
      "execution_count": 36,
      "outputs": []
    },
    {
      "cell_type": "code",
      "source": [
        "#8. Fitting the model (Mapping/plotting the inputs with the outputs)\n",
        "model.fit(x,y) #plotting the values of x and y in the LinearRegression library"
      ],
      "metadata": {
        "colab": {
          "base_uri": "https://localhost:8080/",
          "height": 74
        },
        "id": "G98pthGJmg9D",
        "outputId": "54e745d5-219e-4c0d-fc0c-292dc8d5dc38"
      },
      "execution_count": 39,
      "outputs": [
        {
          "output_type": "execute_result",
          "data": {
            "text/plain": [
              "LinearRegression()"
            ],
            "text/html": [
              "<style>#sk-container-id-3 {color: black;background-color: white;}#sk-container-id-3 pre{padding: 0;}#sk-container-id-3 div.sk-toggleable {background-color: white;}#sk-container-id-3 label.sk-toggleable__label {cursor: pointer;display: block;width: 100%;margin-bottom: 0;padding: 0.3em;box-sizing: border-box;text-align: center;}#sk-container-id-3 label.sk-toggleable__label-arrow:before {content: \"▸\";float: left;margin-right: 0.25em;color: #696969;}#sk-container-id-3 label.sk-toggleable__label-arrow:hover:before {color: black;}#sk-container-id-3 div.sk-estimator:hover label.sk-toggleable__label-arrow:before {color: black;}#sk-container-id-3 div.sk-toggleable__content {max-height: 0;max-width: 0;overflow: hidden;text-align: left;background-color: #f0f8ff;}#sk-container-id-3 div.sk-toggleable__content pre {margin: 0.2em;color: black;border-radius: 0.25em;background-color: #f0f8ff;}#sk-container-id-3 input.sk-toggleable__control:checked~div.sk-toggleable__content {max-height: 200px;max-width: 100%;overflow: auto;}#sk-container-id-3 input.sk-toggleable__control:checked~label.sk-toggleable__label-arrow:before {content: \"▾\";}#sk-container-id-3 div.sk-estimator input.sk-toggleable__control:checked~label.sk-toggleable__label {background-color: #d4ebff;}#sk-container-id-3 div.sk-label input.sk-toggleable__control:checked~label.sk-toggleable__label {background-color: #d4ebff;}#sk-container-id-3 input.sk-hidden--visually {border: 0;clip: rect(1px 1px 1px 1px);clip: rect(1px, 1px, 1px, 1px);height: 1px;margin: -1px;overflow: hidden;padding: 0;position: absolute;width: 1px;}#sk-container-id-3 div.sk-estimator {font-family: monospace;background-color: #f0f8ff;border: 1px dotted black;border-radius: 0.25em;box-sizing: border-box;margin-bottom: 0.5em;}#sk-container-id-3 div.sk-estimator:hover {background-color: #d4ebff;}#sk-container-id-3 div.sk-parallel-item::after {content: \"\";width: 100%;border-bottom: 1px solid gray;flex-grow: 1;}#sk-container-id-3 div.sk-label:hover label.sk-toggleable__label {background-color: #d4ebff;}#sk-container-id-3 div.sk-serial::before {content: \"\";position: absolute;border-left: 1px solid gray;box-sizing: border-box;top: 0;bottom: 0;left: 50%;z-index: 0;}#sk-container-id-3 div.sk-serial {display: flex;flex-direction: column;align-items: center;background-color: white;padding-right: 0.2em;padding-left: 0.2em;position: relative;}#sk-container-id-3 div.sk-item {position: relative;z-index: 1;}#sk-container-id-3 div.sk-parallel {display: flex;align-items: stretch;justify-content: center;background-color: white;position: relative;}#sk-container-id-3 div.sk-item::before, #sk-container-id-3 div.sk-parallel-item::before {content: \"\";position: absolute;border-left: 1px solid gray;box-sizing: border-box;top: 0;bottom: 0;left: 50%;z-index: -1;}#sk-container-id-3 div.sk-parallel-item {display: flex;flex-direction: column;z-index: 1;position: relative;background-color: white;}#sk-container-id-3 div.sk-parallel-item:first-child::after {align-self: flex-end;width: 50%;}#sk-container-id-3 div.sk-parallel-item:last-child::after {align-self: flex-start;width: 50%;}#sk-container-id-3 div.sk-parallel-item:only-child::after {width: 0;}#sk-container-id-3 div.sk-dashed-wrapped {border: 1px dashed gray;margin: 0 0.4em 0.5em 0.4em;box-sizing: border-box;padding-bottom: 0.4em;background-color: white;}#sk-container-id-3 div.sk-label label {font-family: monospace;font-weight: bold;display: inline-block;line-height: 1.2em;}#sk-container-id-3 div.sk-label-container {text-align: center;}#sk-container-id-3 div.sk-container {/* jupyter's `normalize.less` sets `[hidden] { display: none; }` but bootstrap.min.css set `[hidden] { display: none !important; }` so we also need the `!important` here to be able to override the default hidden behavior on the sphinx rendered scikit-learn.org. See: https://github.com/scikit-learn/scikit-learn/issues/21755 */display: inline-block !important;position: relative;}#sk-container-id-3 div.sk-text-repr-fallback {display: none;}</style><div id=\"sk-container-id-3\" class=\"sk-top-container\"><div class=\"sk-text-repr-fallback\"><pre>LinearRegression()</pre><b>In a Jupyter environment, please rerun this cell to show the HTML representation or trust the notebook. <br />On GitHub, the HTML representation is unable to render, please try loading this page with nbviewer.org.</b></div><div class=\"sk-container\" hidden><div class=\"sk-item\"><div class=\"sk-estimator sk-toggleable\"><input class=\"sk-toggleable__control sk-hidden--visually\" id=\"sk-estimator-id-3\" type=\"checkbox\" checked><label for=\"sk-estimator-id-3\" class=\"sk-toggleable__label sk-toggleable__label-arrow\">LinearRegression</label><div class=\"sk-toggleable__content\"><pre>LinearRegression()</pre></div></div></div></div></div>"
            ]
          },
          "metadata": {},
          "execution_count": 39
        }
      ]
    },
    {
      "cell_type": "code",
      "source": [
        "#9. Predicting the output\n",
        "y_pred = model.predict(x) #using the input values, we predict the output.\n",
        "#note: y_pred is nothing but the line of best fit.\n",
        "print(y_pred)\n",
        "print(y)"
      ],
      "metadata": {
        "colab": {
          "base_uri": "https://localhost:8080/"
        },
        "id": "lOzVxq0_msFC",
        "outputId": "41908d0d-7585-459d-fbad-9fc139309c6c"
      },
      "execution_count": 46,
      "outputs": [
        {
          "output_type": "stream",
          "name": "stdout",
          "text": [
            "[ 611053.81165919  821031.39013453  947017.93721973 1198991.03139013\n",
            " 1450964.12556054 1660941.70403587]\n",
            "0     550000\n",
            "1     800000\n",
            "2    1050000\n",
            "3    1240000\n",
            "4    1400000\n",
            "5    1650000\n",
            "Name: Prices, dtype: int64\n"
          ]
        }
      ]
    },
    {
      "cell_type": "code",
      "source": [
        "plt.plot(x,y_pred)\n",
        "plt.scatter(x,y)"
      ],
      "metadata": {
        "colab": {
          "base_uri": "https://localhost:8080/",
          "height": 293
        },
        "id": "nBt3mFjMnBla",
        "outputId": "f0dac897-7f16-4b07-d29c-6cddbd9e5ab7"
      },
      "execution_count": 47,
      "outputs": [
        {
          "output_type": "execute_result",
          "data": {
            "text/plain": [
              "<matplotlib.collections.PathCollection at 0x7f3d931ee580>"
            ]
          },
          "metadata": {},
          "execution_count": 47
        },
        {
          "output_type": "display_data",
          "data": {
            "text/plain": [
              "<Figure size 432x288 with 1 Axes>"
            ],
            "image/png": "[encoded data removed]"
          },
          "metadata": {
            "needs_background": "light"
          }
        }
      ]
    },
    {
      "cell_type": "code",
      "source": [
        "#conclusion: we have to compare the predicted output values (y_pred) and actual output values (y)\n",
        "#so, when we compare y_pred and y, we see that there is a huge difference in the corresponding elements.\n",
        "print(y - y_pred)\n",
        "#this huge difference does not mean that our model has predicted wrong. it just means that our model is less 'linear'\n",
        "#linearity of the model depends on the nature of the data, and size of the data."
      ],
      "metadata": {
        "colab": {
          "base_uri": "https://localhost:8080/"
        },
        "id": "Tok7QSrmnbnU",
        "outputId": "b2e18fcf-63c2-4ab5-cad7-41274de69f09"
      },
      "execution_count": 61,
      "outputs": [
        {
          "output_type": "stream",
          "name": "stdout",
          "text": [
            "0    -61053.811659\n",
            "1    -21031.390135\n",
            "2    102982.062780\n",
            "3     41008.968610\n",
            "4    -50964.125561\n",
            "5    -10941.704036\n",
            "Name: Prices, dtype: float64\n"
          ]
        }
      ]
    },
    {
      "cell_type": "code",
      "source": [
        "#INDIVIDUAL PREDICTION\n",
        "#want to know the price of 2000 sq. feet\n",
        "print(model.predict([[2000]])) #prediction according to our model."
      ],
      "metadata": {
        "colab": {
          "base_uri": "https://localhost:8080/"
        },
        "id": "44yTVFl0n_3m",
        "outputId": "ca530eec-223b-4892-c8d1-7d491f34a585"
      },
      "execution_count": 65,
      "outputs": [
        {
          "output_type": "stream",
          "name": "stdout",
          "text": [
            "[1031008.96860987]\n"
          ]
        },
        {
          "output_type": "stream",
          "name": "stderr",
          "text": [
            "/usr/local/lib/python3.9/dist-packages/sklearn/base.py:420: UserWarning: X does not have valid feature names, but LinearRegression was fitted with feature names\n",
            "  warnings.warn(\n"
          ]
        }
      ]
    },
    {
      "cell_type": "code",
      "source": [
        "#cross-verifying our prediction.\n",
        "#y = mx+c for linear regression\n",
        "#to find m,\n",
        "m = model.coef_\n",
        "print(m)\n",
        "#to find c,\n",
        "c = model.intercept_\n",
        "print(c)"
      ],
      "metadata": {
        "colab": {
          "base_uri": "https://localhost:8080/"
        },
        "id": "fvpEodYZo3v3",
        "outputId": "eb06ce24-5b22-49d7-cb39-4b94c3b5eecd"
      },
      "execution_count": 67,
      "outputs": [
        {
          "output_type": "stream",
          "name": "stdout",
          "text": [
            "[419.95515695]\n",
            "191098.65470852004\n"
          ]
        }
      ]
    },
    {
      "cell_type": "code",
      "source": [
        "#y  = mx+c, let x be 2000 (since we want to predict for 2000)\n",
        "print(2000*m+c) #same answer as predicted. so prediction is done on this basis."
      ],
      "metadata": {
        "colab": {
          "base_uri": "https://localhost:8080/"
        },
        "id": "qhy_BmFkrCYF",
        "outputId": "d3c623ac-78d1-4490-bb06-0ecd1256514d"
      },
      "execution_count": 69,
      "outputs": [
        {
          "output_type": "stream",
          "name": "stdout",
          "text": [
            "[1031008.96860987]\n"
          ]
        }
      ]
    },
    {
      "cell_type": "code",
      "source": [
        "#visualization for the line of best fit.\n",
        "plt.scatter(x,y) #actual values\n",
        "plt.plot(x,y_pred, color = 'orange') #predicted values\n",
        "plt.title(\"Line of Best Fit\")\n",
        "#if all points on the line, the model would've been perfectly linear. "
      ],
      "metadata": {
        "colab": {
          "base_uri": "https://localhost:8080/",
          "height": 298
        },
        "id": "WJc2dT7JrQPX",
        "outputId": "74f37c04-10cf-4417-a227-4a6b8d630ed0"
      },
      "execution_count": 72,
      "outputs": [
        {
          "output_type": "execute_result",
          "data": {
            "text/plain": [
              "Text(0.5, 1.0, 'Line of Best Fit')"
            ]
          },
          "metadata": {},
          "execution_count": 72
        },
        {
          "output_type": "display_data",
          "data": {
            "text/plain": [
              "<Figure size 432x288 with 1 Axes>"
            ],
            "image/png": "[encoded data removed]"
          },
          "metadata": {
            "needs_background": "light"
          }
        }
      ]
    },
    {
      "cell_type": "code",
      "source": [],
      "metadata": {
        "id": "QY44lWDxrkwp"
      },
      "execution_count": null,
      "outputs": []
    }
  ]
}